{
 "cells": [
  {
   "cell_type": "code",
   "execution_count": 1,
   "metadata": {},
   "outputs": [],
   "source": [
    "import json\n",
    "import urllib.request\n",
    "import uuid\n",
    "from tqdm import tqdm"
   ]
  },
  {
   "cell_type": "code",
   "execution_count": null,
   "metadata": {},
   "outputs": [],
   "source": [
    "coco_json = json.load(open('.data/yuva/export-coco-2019-06-11T14_40_00.348423.json'))\n",
    "\n",
    "\n",
    "with tqdm(total=len(coco_json['images'])) as pbar:\n",
    "  for image in coco_json['images']:\n",
    "    name = str(uuid.uuid4()) + '.jpg'\n",
    "    image['file_name'] = name\n",
    "    url = image['coco_url']\n",
    "    urllib.request.urlretrieve(url, 'yuva/' + name)\n",
    "    pbar.update()\n"
   ]
  },
  {
   "cell_type": "code",
   "execution_count": null,
   "metadata": {},
   "outputs": [],
   "source": [
    "with open('yuva/coco.json', 'w') as f:\n",
    "    json.dump(coco_json, f)"
   ]
  },
  {
   "cell_type": "code",
   "execution_count": 4,
   "metadata": {},
   "outputs": [
    {
     "name": "stdout",
     "output_type": "stream",
     "text": [
      " 100% |█████████████████| 168/168 [1.1s elapsed, 0s remaining, 155.0 samples/s]         \n",
      "['0', 'Text 1', 'Text 3', 'Text 4', 'Text 6', 'Text 0', 'Text 2', 'Text 8', 'Text 9', 'Text 7', 'Text 5', 'Text .']\n",
      "Name:        2022.01.01.20.33.59\n",
      "Media type:  image\n",
      "Num samples: 168\n",
      "Persistent:  False\n",
      "Tags:        []\n",
      "Sample fields:\n",
      "    id:         fiftyone.core.fields.ObjectIdField\n",
      "    filepath:   fiftyone.core.fields.StringField\n",
      "    tags:       fiftyone.core.fields.ListField(fiftyone.core.fields.StringField)\n",
      "    metadata:   fiftyone.core.fields.EmbeddedDocumentField(fiftyone.core.metadata.Metadata)\n",
      "    detections: fiftyone.core.fields.EmbeddedDocumentField(fiftyone.core.labels.Detections)\n",
      "    coco_id:    fiftyone.core.fields.StringField\n"
     ]
    },
    {
     "data": {
      "text/html": [
       "\n",
       "        <iframe\n",
       "            width=\"100%\"\n",
       "            height=\"800\"\n",
       "            src=\"http://localhost:5151/?notebook=true&handleId=8fec62d5-7a53-48b7-b28c-2430ca109b31\"\n",
       "            frameborder=\"0\"\n",
       "            allowfullscreen\n",
       "            \n",
       "        ></iframe>\n",
       "        "
      ],
      "text/plain": [
       "<IPython.lib.display.IFrame at 0x7feb619168d0>"
      ]
     },
     "metadata": {},
     "output_type": "display_data"
    }
   ],
   "source": [
    "import fiftyone as fo\n",
    "# Load COCO formatted dataset\n",
    "coco_dataset = fo.Dataset.from_dir(\n",
    "    dataset_type=fo.types.COCODetectionDataset,\n",
    "    data_path=\"data/yuva\",\n",
    "    labels_path=\"data/yuva/coco.json\",\n",
    "    include_id=True,\n",
    "    label_field=\"\",\n",
    ")\n",
    "\n",
    "# Verify that the class list for our dataset was imported\n",
    "print(coco_dataset.default_classes)  # ['airplane', 'apple', ...]\n",
    "\n",
    "print(coco_dataset)\n",
    "\n",
    "session = fo.launch_app(coco_dataset)"
   ]
  }
 ],
 "metadata": {
  "interpreter": {
   "hash": "19f339bf5ad06f51e6b0b1e073b6ee8161a4d506783daefe1387629ea5bbead3"
  },
  "kernelspec": {
   "display_name": "Python 3.7.11 64-bit ('meeter-reader': conda)",
   "language": "python",
   "name": "python3"
  },
  "language_info": {
   "codemirror_mode": {
    "name": "ipython",
    "version": 3
   },
   "file_extension": ".py",
   "mimetype": "text/x-python",
   "name": "python",
   "nbconvert_exporter": "python",
   "pygments_lexer": "ipython3",
   "version": "3.7.11"
  },
  "orig_nbformat": 4
 },
 "nbformat": 4,
 "nbformat_minor": 2
}
