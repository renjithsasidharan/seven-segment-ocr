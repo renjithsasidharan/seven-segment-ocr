{
 "cells": [
  {
   "cell_type": "markdown",
   "metadata": {},
   "source": [
    "### Create ocr training data from yuva yolo data"
   ]
  },
  {
   "cell_type": "code",
   "execution_count": 1,
   "metadata": {},
   "outputs": [],
   "source": [
    "import yaml\n",
    "import glob\n",
    "import shutil\n",
    "from pathlib import Path\n",
    "import pandas as pd\n",
    "import uuid\n",
    "import cv2\n",
    "from matplotlib import pyplot as plt\n",
    "\n",
    "%matplotlib inline"
   ]
  },
  {
   "cell_type": "code",
   "execution_count": 2,
   "metadata": {},
   "outputs": [
    {
     "data": {
      "text/plain": [
       "{1: '1',\n",
       " 2: '3',\n",
       " 3: '4',\n",
       " 4: '6',\n",
       " 5: '0',\n",
       " 6: '2',\n",
       " 7: '8',\n",
       " 8: '9',\n",
       " 9: '7',\n",
       " 10: '5'}"
      ]
     },
     "execution_count": 2,
     "metadata": {},
     "output_type": "execute_result"
    }
   ],
   "source": [
    "with open('data/yuva_yolo/dataset.yaml', 'r') as f:\n",
    "    dataset_yaml = yaml.safe_load(f)\n",
    "\n",
    "label_map = {} #id to text\n",
    "for i, name in enumerate(dataset_yaml['names']):\n",
    "  label_map[i+1] = str(name.split(\" \")[1])\n",
    "\n",
    "label_map"
   ]
  },
  {
   "cell_type": "code",
   "execution_count": 10,
   "metadata": {},
   "outputs": [],
   "source": [
    "train_images_dir = \"data/yuva_yolo/images\"\n",
    "train_labels_dir = \"data/yuva_yolo/labels\"\n",
    "output_dir = \"data/ocr_training_data\"\n",
    "\n",
    "if Path(output_dir).exists():\n",
    "  shutil.rmtree(output_dir)\n",
    "Path(output_dir).mkdir(exist_ok=True)\n",
    "\n",
    "with open(output_dir + \"/gt.txt\", \"w+\") as gt_file:\n",
    "    for img_path in glob.iglob(train_images_dir + \"/*.jpg\"):\n",
    "        label_path = Path(train_labels_dir) / Path(img_path).name.replace(\n",
    "            \".jpg\", \".txt\"\n",
    "        )\n",
    "\n",
    "        if not Path(label_path).exists():\n",
    "          continue\n",
    "\n",
    "        df = pd.read_csv(\n",
    "            label_path, header=None, names=[\"class\", \"x_c\", \"y_c\", \"w\", \"h\"], sep=\" \"\n",
    "        )\n",
    "        df = df.sort_values(\"x_c\")\n",
    "        df[\"x_min\"] = 0\n",
    "        df[\"y_min\"] = 0\n",
    "        df[\"x_max\"] = 0\n",
    "        df[\"y_max\"] = 0\n",
    "\n",
    "        label = \"\"\n",
    "        for i, row in df.iterrows():\n",
    "            df.loc[i, \"x_min\"] = row[\"x_c\"] - row[\"w\"] / 2\n",
    "            df.loc[i, \"x_max\"] = row[\"x_c\"] + row[\"w\"] / 2\n",
    "            df.loc[i, \"y_min\"] = row[\"y_c\"] - row[\"h\"] / 2\n",
    "            df.loc[i, \"y_max\"] = row[\"y_c\"] + row[\"h\"] / 2\n",
    "            label += label_map[row[\"class\"]]\n",
    "\n",
    "        x_min, y_min, x_max, y_max = (\n",
    "            min(df[\"x_min\"]),\n",
    "            min(df[\"y_min\"]),\n",
    "            max(df[\"x_max\"]),\n",
    "            max(df[\"y_max\"]),\n",
    "        )\n",
    "        img = cv2.imread(img_path)\n",
    "        h, w, _ = img.shape\n",
    "        x_min, y_min, x_max, y_max = (\n",
    "            int(x_min * w) - 10,\n",
    "            int(y_min * h) - 10,\n",
    "            int(x_max * w) + 10,\n",
    "            int(y_max * h) + 10,\n",
    "        )\n",
    "        crop_img = img[y_min:y_max, x_min:x_max]\n",
    "\n",
    "        name = str(uuid.uuid4()) + \".png\"\n",
    "        crop_h, crop_w, _ = crop_img.shape\n",
    "        crop_img = cv2.resize(crop_img, (200, int((200/crop_w)*crop_h)), interpolation = cv2.INTER_CUBIC)\n",
    "        cv2.imwrite(f\"{output_dir}/{name}\", crop_img)\n",
    "        label = list(label)\n",
    "        label.insert(len(label) - 1, '.')\n",
    "        label = ''.join(label)\n",
    "        gt_file.write(name + \"\\t\" + label + \"\\n\")\n"
   ]
  }
 ],
 "metadata": {
  "interpreter": {
   "hash": "19f339bf5ad06f51e6b0b1e073b6ee8161a4d506783daefe1387629ea5bbead3"
  },
  "kernelspec": {
   "display_name": "Python 3.7.11 64-bit ('meeter-reader': conda)",
   "language": "python",
   "name": "python3"
  },
  "language_info": {
   "codemirror_mode": {
    "name": "ipython",
    "version": 3
   },
   "file_extension": ".py",
   "mimetype": "text/x-python",
   "name": "python",
   "nbconvert_exporter": "python",
   "pygments_lexer": "ipython3",
   "version": "3.7.11"
  },
  "orig_nbformat": 4
 },
 "nbformat": 4,
 "nbformat_minor": 2
}
